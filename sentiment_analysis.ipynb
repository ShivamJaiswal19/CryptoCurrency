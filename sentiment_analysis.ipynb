{
 "cells": [
  {
   "cell_type": "code",
   "execution_count": null,
   "id": "21b42441-6344-4e9f-8669-b27cbd7bb5ab",
   "metadata": {},
   "outputs": [],
   "source": [
    "# Import libraries\n",
    "import pandas as pd\n",
    "from transformers import AutoTokenizer, AutoModelForSequenceClassification\n",
    "import torch\n",
    "\n",
    "# Load tweet data\n",
    "tweets_df = pd.read_csv('tweets_data.csv')\n",
    "\n",
    "# Load the Llama 3 model from Hugging Face\n",
    "tokenizer = AutoTokenizer.from_pretrained(\"meta-llama/Llama-3-7b\")  # Replace with actual model name\n",
    "model = AutoModelForSequenceClassification.from_pretrained(\"meta-llama/Llama-3-7b\")\n",
    "\n",
    "# Define sentiment classification function\n",
    "def classify_sentiment(tweet):\n",
    "    inputs = tokenizer(tweet, return_tensors=\"pt\", padding=True, truncation=True, max_length=512)\n",
    "    outputs = model(**inputs)\n",
    "    sentiment = torch.argmax(outputs.logits, dim=1).item()\n",
    "    # Map output to sentiment scores\n",
    "    return -1 if sentiment == 0 else (1 if sentiment == 2 else 0)  # Assuming 0: Negative, 1: Neutral, 2: Positive\n",
    "\n",
    "# Apply sentiment analysis to each tweet\n",
    "tweets_df['Sentiment'] = tweets_df['Tweet'].apply(classify_sentiment)\n",
    "\n",
    "# Save the processed tweets with sentiment\n",
    "tweets_df.to_csv('tweets_with_sentiment.csv', index=False)\n",
    "\n",
    "# Display sample of data\n",
    "tweets_df.head()\n"
   ]
  }
 ],
 "metadata": {
  "kernelspec": {
   "display_name": "Python 3 (ipykernel)",
   "language": "python",
   "name": "python3"
  },
  "language_info": {
   "codemirror_mode": {
    "name": "ipython",
    "version": 3
   },
   "file_extension": ".py",
   "mimetype": "text/x-python",
   "name": "python",
   "nbconvert_exporter": "python",
   "pygments_lexer": "ipython3",
   "version": "3.12.4"
  }
 },
 "nbformat": 4,
 "nbformat_minor": 5
}
