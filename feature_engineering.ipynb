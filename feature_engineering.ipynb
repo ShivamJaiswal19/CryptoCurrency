{
 "cells": [
  {
   "cell_type": "code",
   "execution_count": null,
   "id": "bbbc4e7d-08dc-4295-8ab7-9e3842be5f56",
   "metadata": {},
   "outputs": [],
   "source": [
    "# Import libraries\n",
    "import pandas as pd\n",
    "\n",
    "# Load data\n",
    "btc_data = pd.read_csv('btc_data.csv')\n",
    "tweets_df = pd.read_csv('tweets_with_sentiment.csv')\n",
    "\n",
    "# Merge on Date\n",
    "btc_data['Date'] = pd.to_datetime(btc_data['Date'])\n",
    "tweets_df['Date'] = pd.to_datetime(tweets_df['Date'])\n",
    "merged_data = btc_data.merge(tweets_df, on='Date', how='left')\n",
    "\n",
    "# Fill missing sentiment values with 0\n",
    "merged_data['Sentiment'].fillna(0, inplace=True)\n",
    "\n",
    "# Create moving averages for sentiment and closing price\n",
    "merged_data['Sentiment_MA'] = merged_data['Sentiment'].rolling(window=7).mean()\n",
    "merged_data['Close_MA'] = merged_data['Close'].rolling(window=7).mean()\n",
    "\n",
    "# Drop NaN values created by rolling window\n",
    "merged_data.dropna(inplace=True)\n",
    "\n",
    "# Save the final dataset\n",
    "merged_data.to_csv('final_btc_data.csv', index=False)\n",
    "\n",
    "# Display final dataset\n",
    "merged_data.head()\n"
   ]
  }
 ],
 "metadata": {
  "kernelspec": {
   "display_name": "Python 3 (ipykernel)",
   "language": "python",
   "name": "python3"
  },
  "language_info": {
   "codemirror_mode": {
    "name": "ipython",
    "version": 3
   },
   "file_extension": ".py",
   "mimetype": "text/x-python",
   "name": "python",
   "nbconvert_exporter": "python",
   "pygments_lexer": "ipython3",
   "version": "3.12.4"
  }
 },
 "nbformat": 4,
 "nbformat_minor": 5
}
