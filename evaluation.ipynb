{
 "cells": [
  {
   "cell_type": "code",
   "execution_count": null,
   "id": "4eecb217-86d9-4b92-b070-9176f47eb250",
   "metadata": {},
   "outputs": [],
   "source": [
    "# Import libraries\n",
    "import numpy as np\n",
    "import matplotlib.pyplot as plt\n",
    "from sklearn.metrics import mean_squared_error\n",
    "from tensorflow.keras.models import load_model\n",
    "\n",
    "# Load model and data\n",
    "model = load_model('lstm_model.h5')\n",
    "data = pd.read_csv('final_btc_data.csv')\n",
    "\n",
    "# Scale the data for evaluation\n",
    "scaler = MinMaxScaler(feature_range=(0, 1))\n",
    "data_scaled = scaler.fit_transform(data[['Close', 'Sentiment_MA', 'Close_MA']])\n",
    "\n",
    "# Prepare sequences for evaluation\n",
    "def create_sequences(data, seq_length):\n",
    "    X, y = [], []\n",
    "    for i in range(seq_length, len(data)):\n",
    "        X.append(data[i-seq_length:i])\n",
    "        y.append(data[i, 0])  # Predicting 'Close' price\n",
    "    return np.array(X), np.array(y)\n",
    "\n",
    "seq_length = 30\n",
    "X, y = create_sequences(data_scaled, seq_length)\n",
    "\n",
    "# Split data into testing set\n",
    "split_idx = int(0.8 * len(X))\n",
    "X_test, y_test = X[split_idx:], y[split_idx:]\n",
    "\n",
    "# Predict on test set\n",
    "y_pred = model.predict(X_test)\n",
    "\n",
    "# Rescale predictions and actuals\n",
    "y_test_rescaled = scaler.inverse_transform(np.hstack((y_test.reshape(-1, 1), np.zeros((y_test.shape[0], 2)))))\n",
    "y_pred_rescaled = scaler.inverse_transform(np.hstack((y_pred, np.zeros((y_pred.shape[0], 2)))))\n",
    "\n",
    "# Calculate RMSE\n",
    "rmse = np.sqrt(mean_squared_error(y_test_rescaled[:, 0], y_pred_rescaled[:, 0]))\n",
    "print(f'RMSE: {rmse}')\n",
    "\n",
    "# Plot predictions vs. actual values\n",
    "plt.figure(figsize=(14, 5))\n",
    "plt.plot(y_test_rescaled[:, 0], label='Actual Price', color='blue')\n",
    "plt.plot(y_pred_rescaled[:, 0], label='Predicted Price', color='red')\n",
    "plt.title('Bitcoin Price Prediction')\n",
    "plt.xlabel('Time')\n",
    "plt.ylabel('Price')\n",
    "plt.legend()\n",
    "plt.show()\n"
   ]
  }
 ],
 "metadata": {
  "kernelspec": {
   "display_name": "Python 3 (ipykernel)",
   "language": "python",
   "name": "python3"
  },
  "language_info": {
   "codemirror_mode": {
    "name": "ipython",
    "version": 3
   },
   "file_extension": ".py",
   "mimetype": "text/x-python",
   "name": "python",
   "nbconvert_exporter": "python",
   "pygments_lexer": "ipython3",
   "version": "3.12.4"
  }
 },
 "nbformat": 4,
 "nbformat_minor": 5
}
