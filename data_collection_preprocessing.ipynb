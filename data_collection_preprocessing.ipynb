{
 "cells": [
  {
   "cell_type": "code",
   "execution_count": null,
   "id": "eb3bcf22-83ee-45a4-9170-dcba95353aca",
   "metadata": {},
   "outputs": [],
   "source": [
    "# Import necessary libraries\n",
    "import yfinance as yf\n",
    "import pandas as pd\n",
    "import numpy as np\n",
    "\n",
    "# Download Bitcoin historical price data\n",
    "btc_data = yf.download('BTC-USD', start=\"2020-01-01\", end=\"2023-01-01\")\n",
    "btc_data = btc_data[['Close']]\n",
    "btc_data.reset_index(inplace=True)\n",
    "\n",
    "# Placeholder for tweets collection - using dummy data for demonstration\n",
    "tweets_df = pd.DataFrame({\n",
    "    'Date': pd.date_range(start=\"2020-01-01\", end=\"2023-01-01\", freq='D'),\n",
    "    'Tweet': np.random.choice(['Bitcoin will go up', 'Bitcoin is crashing', 'Holding steady'], size=(btc_data.shape[0],))\n",
    "})\n",
    "\n",
    "# Save files for further use\n",
    "btc_data.to_csv('btc_data.csv', index=False)\n",
    "tweets_df.to_csv('tweets_data.csv', index=False)\n",
    "\n",
    "# Display a sample of data\n",
    "btc_data.head(), tweets_df.head()\n"
   ]
  },
  {
   "cell_type": "code",
   "execution_count": null,
   "id": "26b63040-08f5-411f-85a4-2751b2866c21",
   "metadata": {},
   "outputs": [],
   "source": []
  }
 ],
 "metadata": {
  "kernelspec": {
   "display_name": "Python 3 (ipykernel)",
   "language": "python",
   "name": "python3"
  },
  "language_info": {
   "codemirror_mode": {
    "name": "ipython",
    "version": 3
   },
   "file_extension": ".py",
   "mimetype": "text/x-python",
   "name": "python",
   "nbconvert_exporter": "python",
   "pygments_lexer": "ipython3",
   "version": "3.12.4"
  }
 },
 "nbformat": 4,
 "nbformat_minor": 5
}
